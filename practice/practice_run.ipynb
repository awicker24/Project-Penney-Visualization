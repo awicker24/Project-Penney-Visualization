{
 "cells": [
  {
   "cell_type": "markdown",
   "metadata": {},
   "source": [
    "Double check if we want to continue with using player 2's probabilities"
   ]
  },
  {
   "cell_type": "code",
   "execution_count": 6,
   "metadata": {},
   "outputs": [],
   "source": [
    "import numpy as np \n",
    "import itertools\n",
    "import pandas as pd\n",
    "import numpy as np\n",
    "import os\n",
    "import plotly.graph_objects as go\n",
    "import math\n",
    "import kaleido\n"
   ]
  },
  {
   "cell_type": "code",
   "execution_count": 7,
   "metadata": {},
   "outputs": [
    {
     "name": "stdout",
     "output_type": "stream",
     "text": [
      "Requirement already satisfied: kaleido in /Library/Frameworks/Python.framework/Versions/3.12/lib/python3.12/site-packages (0.2.1)\n",
      "Note: you may need to restart the kernel to use updated packages.\n"
     ]
    }
   ],
   "source": [
    "pip install -U kaleido   # This is to help with creating png, jpeg, whatever sort of image we want "
   ]
  },
  {
   "cell_type": "code",
   "execution_count": 10,
   "metadata": {},
   "outputs": [
    {
     "name": "stdout",
     "output_type": "stream",
     "text": [
      "Collecting plotly\n",
      "  Downloading plotly-5.24.1-py3-none-any.whl.metadata (7.3 kB)\n",
      "Collecting tenacity>=6.2.0 (from plotly)\n",
      "  Downloading tenacity-9.0.0-py3-none-any.whl.metadata (1.2 kB)\n",
      "Requirement already satisfied: packaging in /Library/Frameworks/Python.framework/Versions/3.12/lib/python3.12/site-packages (from plotly) (24.1)\n",
      "Downloading plotly-5.24.1-py3-none-any.whl (19.1 MB)\n",
      "\u001b[2K   \u001b[90m━━━━━━━━━━━━━━━━━━━━━━━━━━━━━━━━━━━━━━━━\u001b[0m \u001b[32m19.1/19.1 MB\u001b[0m \u001b[31m20.8 MB/s\u001b[0m eta \u001b[36m0:00:00\u001b[0ma \u001b[36m0:00:01\u001b[0m\n",
      "\u001b[?25hDownloading tenacity-9.0.0-py3-none-any.whl (28 kB)\n",
      "Installing collected packages: tenacity, plotly\n",
      "Successfully installed plotly-5.24.1 tenacity-9.0.0\n",
      "Note: you may need to restart the kernel to use updated packages.\n"
     ]
    }
   ],
   "source": [
    "pip install plotly"
   ]
  },
  {
   "cell_type": "code",
   "execution_count": 8,
   "metadata": {},
   "outputs": [
    {
     "name": "stdout",
     "output_type": "stream",
     "text": [
      "[[0 0 0 1 1 0 1 1]\n",
      " [1 0 0 0 1 0 0 0]\n",
      " [1 1 0 1 1 1 1 0]\n",
      " [0 1 0 0 0 0 0 0]\n",
      " [0 0 0 1 0 0 1 1]\n",
      " [1 1 0 1 1 0 1 0]\n",
      " [0 1 0 1 0 0 0 1]\n",
      " [0 1 1 1 0 1 0 0]]\n"
     ]
    }
   ],
   "source": [
    "data = np.load('data/1001972621777634.npy', allow_pickle=True)\n",
    "print(data)"
   ]
  },
  {
   "cell_type": "code",
   "execution_count": 10,
   "metadata": {},
   "outputs": [],
   "source": [
    "def create_heatmap(variation):\n",
    "    '''\n",
    "    This function takes in an 8x8 array and makes a heatmap using plotly.go. The heatmap displays the win ratios for the \n",
    "    2nd player, who will choose their pattern based on what the 1st player chose. The heatmap is scaled so that percentages \n",
    "    under 0.5 show up orange while those over 0.5 are green, with the midpoint 0.5 being yellow. The top left to bottom\n",
    "    right diagonal should be None values which will show up grey, since these are matches that wouldn't occur (ex. RRR v RRR).\n",
    "    From top down (and right to left), the order of the sequences is 'RRR', 'RRB', 'RBR', 'RBB', 'BRR', 'BRB', 'BBR', 'BBB'.\n",
    "\n",
    "    Parameters: \n",
    "    variation: int, the variation of the game (1 for cards, 2 for tricks)\n",
    "    '''\n",
    "    \n",
    "    data_folder = './data'  \n",
    "    files = [file for file in os.listdir(data_folder) if os.path.isfile(os.path.join(data_folder, file)) and file.endswith('.npy')]   # gets all the npy files right\n",
    "\n",
    "    games_total = None\n",
    "\n",
    "    for file in files:   # loading each of the game \n",
    "        file_path = os.path.join(data_folder, file)\n",
    "        game_data = np.load(file_path, allow_pickle=True)  \n",
    "        \n",
    "        if games_total is None:\n",
    "            games_total = game_data \n",
    "        else:\n",
    "            games_total += game_data  \n",
    "\n",
    "    total_iterations = len(files)   # THIS IS IMPORTANT / THIS GIVES TOTAL GAMES\n",
    "    win_ratios = games_total / total_iterations  \n",
    "\n",
    "    win_ratios_percentage = win_ratios * 100\n",
    "\n",
    "    np.fill_diagonal(win_ratios, None)   # can change this back to original code from ariannas here\n",
    "\n",
    "    variation_name = 'cards' if variation == 1 else 'tricks'\n",
    "    \n",
    "    fig = go.Figure(data=go.Heatmap(\n",
    "        z=win_ratios,\n",
    "        colorscale='Fall_r',\n",
    "        hovertemplate=\"%{y}:%{x} win ratio <br />%{z}\", \n",
    "        name=\"\",\n",
    "        text=win_ratios_percentage,\n",
    "        texttemplate='%{text:.0f}',  \n",
    "        x=['RRR', 'RRB', 'RBR', 'RBB', 'BRR', 'BRB', 'BBR', 'BBB'],\n",
    "        y=['RRR', 'RRB', 'RBR', 'RBB', 'BRR', 'BRB', 'BBR', 'BBB'],\n",
    "        hoverongaps=False\n",
    "    ))\n",
    "\n",
    "    fig.update_layout(\n",
    "        title=f'Penney Game, variation {variation}: Player Two Win Ratio for {variation_name}<br> Total Non-Tie Games, Approx: {total_iterations}',\n",
    "        title_x=0.5,\n",
    "        title_y=0.9,\n",
    "        title_font_size=20,\n",
    "        xaxis=dict(title='Player Two Choice'),\n",
    "        yaxis=dict(title='Player One Choice'),\n",
    "        width=800,  # Wider for better viewing in HTML\n",
    "        height=800\n",
    "    )\n",
    "\n",
    "    fig.update_traces(xgap=1, ygap=1)\n",
    "    \n",
    "    # Return the figure object for saving\n",
    "    return fig  "
   ]
  },
  {
   "cell_type": "code",
   "execution_count": 12,
   "metadata": {},
   "outputs": [],
   "source": [
    "def save_heatmap_as_html(fig, filename):\n",
    "    fig.write_html(filename)\n",
    "    print(f\"Heatmap saved as HTML: {filename}\")"
   ]
  },
  {
   "cell_type": "code",
   "execution_count": 16,
   "metadata": {},
   "outputs": [],
   "source": [
    "def save_heatmap_as_png(fig, filename):\n",
    "    fig.update_layout(\n",
    "        width=600,  \n",
    "        height=600,  \n",
    "        margin=dict(l=40, r=40, t=120, b=40),  # this helps with separating title with matrix\n",
    "        title_font_size=18,  \n",
    "    )\n",
    "    \n",
    "    fig.write_image(filename, scale=2)  \n",
    "    print(f\"Heatmap saved as PNG: {filename}\")\n"
   ]
  },
  {
   "cell_type": "code",
   "execution_count": 17,
   "metadata": {},
   "outputs": [],
   "source": [
    "def master_heatmap_function(format_type):\n",
    "    '''\n",
    "    Master function to create heatmaps for both variations of the Penney Game and save them in the specified format.\n",
    "\n",
    "    Parameters:\n",
    "    format_type: str, format to save the heatmap ('html', 'png', or 'both')\n",
    "    '''\n",
    "    # Variation 1\n",
    "    fig1 = create_heatmap(variation=1)\n",
    "    \n",
    "    # Variation 2\n",
    "    fig2 = create_heatmap(variation=2)\n",
    "\n",
    "    if format_type == 'html':\n",
    "        save_heatmap_as_html(fig1, 'heatmap_variation_1.html')\n",
    "        save_heatmap_as_html(fig2, 'heatmap_variation_2.html')\n",
    "    elif format_type == 'png':\n",
    "        save_heatmap_as_png(fig1, 'heatmap_variation_1.png')\n",
    "        save_heatmap_as_png(fig2, 'heatmap_variation_2.png')\n",
    "    elif format_type == 'both':\n",
    "        save_heatmap_as_html(fig1, 'heatmap_variation_1.html')\n",
    "        save_heatmap_as_png(fig1, 'heatmap_variation_1.png')\n",
    "        save_heatmap_as_html(fig2, 'heatmap_variation_2.html')\n",
    "        save_heatmap_as_png(fig2, 'heatmap_variation_2.png')\n",
    "    else:\n",
    "        print(f\"Unsupported format type: {format_type}\")"
   ]
  },
  {
   "cell_type": "code",
   "execution_count": 19,
   "metadata": {},
   "outputs": [
    {
     "name": "stdout",
     "output_type": "stream",
     "text": [
      "Heatmap saved as HTML: heatmap_variation_1.html\n",
      "Heatmap saved as PNG: heatmap_variation_1.png\n",
      "Heatmap saved as HTML: heatmap_variation_2.html\n",
      "Heatmap saved as PNG: heatmap_variation_2.png\n"
     ]
    }
   ],
   "source": [
    "master_heatmap_function(format_type='both') "
   ]
  },
  {
   "cell_type": "markdown",
   "metadata": {},
   "source": [
    "NEED TO ASK: but what is ron looking for in the different kinds of heatmaps? is it just changing like the lengths and widths or whatever specs?"
   ]
  },
  {
   "cell_type": "markdown",
   "metadata": {},
   "source": [
    "This shows the same charts just cause the data is the same for right now"
   ]
  }
 ],
 "metadata": {
  "kernelspec": {
   "display_name": "Python 3",
   "language": "python",
   "name": "python3"
  },
  "language_info": {
   "codemirror_mode": {
    "name": "ipython",
    "version": 3
   },
   "file_extension": ".py",
   "mimetype": "text/x-python",
   "name": "python",
   "nbconvert_exporter": "python",
   "pygments_lexer": "ipython3",
   "version": "3.12.5"
  }
 },
 "nbformat": 4,
 "nbformat_minor": 2
}
